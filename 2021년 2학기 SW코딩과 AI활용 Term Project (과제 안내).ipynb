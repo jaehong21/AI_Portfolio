{
 "cells": [
  {
   "cell_type": "markdown",
   "metadata": {},
   "source": [
    "# 2021년 2학기 SW코딩과 AI활용 Term Project (공지사항)"
   ]
  },
  {
   "cell_type": "markdown",
   "metadata": {},
   "source": [
    "<span style=\"color: blue; font-size: 12pt\">\n",
    "Term Project 점수는 총 50점입니다. <br>    <br> \n",
    "우리 과목 기말고사 대체용 Term Project는 각자 딥러닝 주제를 선정하여  <br> \n",
    "Jupyter Notebook을 이용하여 아래의 4가지 사항을 완성한 후,  <br> \n",
    "과제 결과물로 생성된 모든 ipynb 파일들과 데이터셋(csv, xlsx, txt) 파일들을 zip 으로 압축하여 제출하면 됩니다. <br> <br>     \n",
    "과제 제출시 최종 압축 파일명 : 본인이름.zip   <br> \n",
    "</span>   "
   ]
  },
  {
   "cell_type": "markdown",
   "metadata": {},
   "source": [
    "1. 프로젝트 요약 보고서 (10점)  <br>    \n",
    "<span style=\"color: red; font-size: 10pt\">  \n",
    "    제출 파일명 : 1_Project report.ipynb <br>      \n",
    "</span>\n",
    "* 프로젝트 주제 :\n",
    "* 주제 선정 이유 및 목표 : \n",
    "* 과제 수행하면서 느낀점 : "
   ]
  },
  {
   "cell_type": "markdown",
   "metadata": {},
   "source": [
    "2. 데이터셋 가공 및 준비 과정 (10점) : 양적평가 + 질적평가  <br>    \n",
    "<span style=\"color: red; font-size: 10pt\">  \n",
    "제출 파일명 : 2_Data preparation.ipynb <br>            \n",
    "</span>\n",
    "<span style=\"color: blue; font-size: 10pt\">  \n",
    "데이터셋 제출 파일명 : 크롤링 및 다운로드 받은 파일명은 \"2_\"로 시작하는 임의의 파일명으로 제출하고,   <br>  \n",
    "데이터 가공을 통해 생성된 파일명은 2_Data preparation.csv 또는 2_Data preparation.xlsx 또는 2_Data preparation.txt 등의   \n",
    "파일명으로 제출 <br>     \n",
    "</span>\n",
    "\n",
    "  <span style=\"color: red; font-size: 10pt\"> ● \"2_Data preparation.ipynb\" </span> 파일에 포함할  Source code 내용\n",
    "    * 파이썬 기본 문법 및 pandas와 같은 라이브러리를 사용하여 데이터 가공 과정이 포함된 소스 코드    \n",
    "    * 데이터 가공을 통해서 새롭게 데이터셋 파일이 생성되는 과정이 포함된 소스 코드  \n",
    "    (가공된 데이터셋은 2_Data preparation.csv 또는 2_Data preparation.xlsx 또는 2_Data preparation.txt 등으로 저장)\n",
    "    \n",
    "  <span style=\"color: red; font-size: 10pt\"> ● \"2_Data preparation.ipynb\" </span> 파일에 포함할 Markdown 내용  \n",
    "    * 초기의 데이터셋 준비 과정을 구체적으로 기술할 것 <br>\n",
    "      가령 직접 크롤링하여 통합 및 선별 가공했는지? kaggle, 통계청과 같은 사이트에서 다운로드하여 통합 및 선별 가공했는지? <br> \n",
    "      크롤링한것과 다운로드 받은것을 통합 및 선별하여 가공했는지? 등을 구체적으로 기록할 것 <br>  \n",
    "    * 크롤링 및 다운로드에 사용된 출처 사이트까지 반드시 기록할 것   <br> \n",
    "      예시: Korea Income and Welfare    \n",
    "      <https://www.kaggle.com/hongsean/korea-income-and-welfare?select=Korea+Income+and+Welfare.csv>  \n",
    "    "
   ]
  },
  {
   "cell_type": "markdown",
   "metadata": {},
   "source": [
    "3. 가공된 데이터셋 분석 및 시각화를 통해 데이터셋 정제 (10점) : 양적평가 + 질적평가  <br>    \n",
    "<span style=\"color: red; font-size: 10pt\">  \n",
    "제출 파일명 : 3_Data analysis.ipynb <br>            \n",
    "</span>\n",
    "<span style=\"color: blue; font-size: 10pt\">  \n",
    "데이터셋 제출 파일명 : 최종 정제된 데이터셋 파일명은 3_Dataset.csv 또는 3_Dataset.xlsx 또는 3_Dataset.txt 등의 파일명으로 제출 <br>     \n",
    "</span>\n",
    "\n",
    "  <span style=\"color: red; font-size: 10pt\"> ● \" 3_Data analysis.ipynb\" </span> 파일에 포함할  Source code 내용\n",
    "    * 파이썬 기본 문법 및 pandas, numpy, matplotlib, seaborn 등과 같은 라이브러리를 사용하여 데이터를 분석하고 시각화한 소스 코드 \n",
    "    * 데이터 분석 및 시각화를 통해 얻은 정보를 기반으로 딥러닝에 활용할 수 있도록 정제된 최종 데이터셋 구축 과정 소스 코드 <br>\n",
    "      (최종 정제된 데이터셋은 3_Dataset.csv 또는 3_Dataset.xlsx 또는 3_Dataset.txt 등으로 저장)\n",
    "    \n",
    "  <span style=\"color: red; font-size: 10pt\"> ● \" 3_Data analysis.ipynb\" </span> 파일에 포함할 Markdown 내용  \n",
    "    * 데이터셋 분석 및 시각화 과정으로 얻게된 정보를 소스 코드 사이에 요약 기술할 것 <br>"
   ]
  },
  {
   "cell_type": "markdown",
   "metadata": {},
   "source": [
    "4. 딥러닝 구현 (20점) : 양적평가 + 질적평가 <br>    \n",
    "<span style=\"color: red; font-size: 10pt\">  \n",
    "제출 파일명 : 4_Deep learning_(1).ipynb  ,  4_Deep learning_(2).ipynb ,  4_Deep learning_(3).ipynb  등의 다양한 버전의 딥러닝 소스 코드가 있는 파일들  <br>     \n",
    "</span>\n",
    "\n",
    "  <span style=\"color: red; font-size: 10pt\"> ● \" 4_Deep learning( )\" </span> 파일에 포함할  Source code 내용\n",
    "    * 딥러닝에 활용할 수 있도록 정제된 최종 데이터셋을 읽어와서 TensorFlow, Keras 등의 라이브러리를 활용하여   \n",
    "      딥러닝 모델링, 컴파일, 실행, 학습 모델 저장, 학습모델 분석을 위한 시각화, 예측 등을 포함한 소스 코드    \n",
    "    \n",
    "  <span style=\"color: red; font-size: 10pt\"> ● \" 4_Deep learning( )\" </span> 파일에 포함할 Markdown 내용  \n",
    "    * 다양한 버전으로 딥러닝을 수행한 파일들 (1), (2), (3)... 을 비교한 후, 비교 분석 내용을 각각의 파일에 포함할 것     \n",
    "    * 비교 분석 내용에 반드시 포함할 내용   \n",
    "      다른 버전의 딥러닝에 비하여 현재의 파일에 포함된 딥러닝 결과가 더 좋은지, 더 나쁜지를 분석해보고  \n",
    "      딥러닝 결과가 좋거나 나쁜게 나온 이유를 각각의 파일 마지막에 반드시 기술할 것   "
   ]
  },
  {
   "cell_type": "code",
   "execution_count": null,
   "metadata": {},
   "outputs": [],
   "source": []
  }
 ],
 "metadata": {
  "kernelspec": {
   "display_name": "Python 3",
   "language": "python",
   "name": "python3"
  },
  "language_info": {
   "codemirror_mode": {
    "name": "ipython",
    "version": 3
   },
   "file_extension": ".py",
   "mimetype": "text/x-python",
   "name": "python",
   "nbconvert_exporter": "python",
   "pygments_lexer": "ipython3",
   "version": "3.8.5"
  }
 },
 "nbformat": 4,
 "nbformat_minor": 5
}
