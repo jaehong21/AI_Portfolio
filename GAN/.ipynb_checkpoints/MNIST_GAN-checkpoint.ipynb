{
 "cells": [
  {
   "cell_type": "code",
   "execution_count": 1,
   "id": "b70eb764",
   "metadata": {},
   "outputs": [],
   "source": [
    "import torch\n",
    "import torch.nn as nn\n",
    "import torch.optim as optim\n",
    "import torchvision.utils as utils\n",
    "import torch.utils.data as data\n",
    "import torchvision.datasets as datasets\n",
    "import torchvision.transforms as transforms"
   ]
  },
  {
   "cell_type": "code",
   "execution_count": 2,
   "id": "f1f9cd97",
   "metadata": {},
   "outputs": [],
   "source": [
    "standardize = transforms.Compose([transforms.ToTensor(), transforms.Normalize((0.5,),(0.5,))])\n",
    "\n",
    "train_data = datasets.MNIST(root='data/', train=True, transform=standardize, download=False)\n",
    "test_data = datasets.MNIST(root='data/', train=False, transform=standardize, download=False)\n",
    "\n",
    "batch_size = 32\n",
    "# 32가 아니면 train 안 됨\n",
    "train_dataloader = data.DataLoader(train_data, batch_size=batch_size, shuffle=True)\n",
    "test_dataloader = data.DataLoader(test_data, batch_size=batch_size, shuffle=True)\n",
    "\n",
    "device = torch.device('cuda' if torch.cuda.is_available() else 'cpu')"
   ]
  },
  {
   "cell_type": "code",
   "execution_count": 3,
   "id": "9bf1cac9",
   "metadata": {},
   "outputs": [],
   "source": [
    "import numpy as np\n",
    "from matplotlib import pyplot as plt\n",
    "\n",
    "def showImg(img):   \n",
    "    plt.imshow(img)\n",
    "    plt.show()"
   ]
  },
  {
   "cell_type": "code",
   "execution_count": 4,
   "id": "d0e6d449",
   "metadata": {},
   "outputs": [
    {
     "name": "stdout",
     "output_type": "stream",
     "text": [
      "torch.Size([1, 50])\n"
     ]
    },
    {
     "data": {
      "image/png": "[encoded data removed]",
      "text/plain": [
       "<Figure size 432x288 with 1 Axes>"
      ]
     },
     "metadata": {
      "needs_background": "light"
     },
     "output_type": "display_data"
    },
    {
     "name": "stdout",
     "output_type": "stream",
     "text": [
      "torch.Size([28, 28])\n"
     ]
    }
   ],
   "source": [
    "d_noise  = 50\n",
    "d_hidden = 256\n",
    "\n",
    "# torch.randn으로 만든 dump data\n",
    "def fakeImg(batch_size=1, d_noise=50):\n",
    "    return torch.randn(batch_size, d_noise)\n",
    "\n",
    "G = nn.Sequential(\n",
    "    nn.Linear(d_noise, d_hidden),\n",
    "    nn.ReLU(),\n",
    "    # nn.Dropout(0.1),\n",
    "    nn.Linear(d_hidden,d_hidden),\n",
    "    nn.ReLU(),\n",
    "    # nn.Dropout(0.1),\n",
    "    nn.Linear(d_hidden, 28*28),\n",
    "    nn.Tanh()\n",
    ").to(device)\n",
    "\n",
    "# Make Noise\n",
    "z = fakeImg()\n",
    "# Put into Generator\n",
    "print(z.size())\n",
    "img_fake = G(z).view(1, 28, 28)\n",
    "# If not .view(1, 28, 28), just bunch of (.784) data\n",
    "showImg(img_fake.squeeze().detach().numpy())\n",
    "print(img_fake.squeeze().size())\n",
    "# If not detach, can't call numpy that requires grad"
   ]
  },
  {
   "cell_type": "code",
   "execution_count": 5,
   "id": "bdc60677",
   "metadata": {},
   "outputs": [
    {
     "name": "stdout",
     "output_type": "stream",
     "text": [
      "torch.Size([1, 784])\n",
      "torch.Size([1, 1])\n",
      "0.4855196177959442\n"
     ]
    }
   ],
   "source": [
    "D = nn.Sequential(\n",
    "    nn.Linear(28*28, d_hidden),\n",
    "    nn.LeakyReLU(),\n",
    "    # nn.ReLU(),\n",
    "    # nn.Dropout(0.1),\n",
    "    nn.Linear(d_hidden, d_hidden),\n",
    "    nn.LeakyReLU(),\n",
    "    # nn.ReLU(),\n",
    "    # nn.Dropout(0.1),\n",
    "    nn.Linear(d_hidden, 1),\n",
    "    nn.Sigmoid()\n",
    "    # to use BCELoss\n",
    ").to(device)\n",
    "\n",
    "print(G(z).shape)\n",
    "print(D(G(z)).shape)\n",
    "print(D(G(z)).item())"
   ]
  },
  {
   "cell_type": "code",
   "execution_count": 6,
   "id": "258fc099",
   "metadata": {},
   "outputs": [],
   "source": [
    "criterion = nn.BCELoss()\n",
    "def train(G, D, optim_G, optim_D):\n",
    "    G.train()\n",
    "    D.train()\n",
    "    \n",
    "    for batch, idx in train_dataloader:\n",
    "        img, label = batch.to(device), idx.to(device)\n",
    "        \n",
    "        # optimizer for Discriminator on\n",
    "        optim_D.zero_grad()\n",
    "        # reshape해서 28*28 사이즈로 넣어준다\n",
    "        correct = D(img.view(-1, 28*28))\n",
    "        wrong = D(G(fakeImg(batch_size, d_noise)))\n",
    "        # D는 correct일 때, 1에 가깝게 나올 수 있도록 하자\n",
    "        # D should maxV(D, G) = logD(x) + log(1-D(G(z)))\n",
    "        # 위 식에서 첫번째 항\n",
    "        loss_correct = torch.log(correct)\n",
    "        # 위 식에서 두번째 항\n",
    "        loss_wrong = torch.log(1.0-wrong)\n",
    "        # 이 둘을 최대로 만들어야 한다.\n",
    "        \n",
    "        # loss를 최소로 하는 방향으로 학습을 진행하므로, -1을 곱해본다.\n",
    "        # loss_D = (-1)*(loss_correct+loss_wrong)\n",
    "        # 나중에 .mean 추가해보기\n",
    "        loss_D = criterion(correct, torch.ones_like(correct).to(device)) + criterion(wrong, torch.zeros_like(wrong).to(device))\n",
    "        loss_D.backward()\n",
    "        # grad는 scalar에만 생성이 가능하므로, loss.backward()가 아니라\n",
    "        # 인자로 loss_D를 backward에 넣어주어야 한다\n",
    "        # loss_D.backward(loss_D)\n",
    "        optim_D.step()\n",
    "    \n",
    "        # optimizer on for Generator\n",
    "        optim_G.zero_grad()\n",
    "        # correct는 만들 필요가 없음\n",
    "        wrong = D(G(fakeImg(batch_size, d_noise)))\n",
    "        # minV(D, G) = log(1-D(G(z)))\n",
    "        # loss_G = torch.log(1.0-wrong)\n",
    "        # loss_G = -1 * torch.log(wrong)으로 해보기\n",
    "        loss_G = criterion(wrong, torch.ones_like(wrong).to(device))\n",
    "        loss_G.backward()\n",
    "        # loss_G.backward(loss_G)\n",
    "        optim_G.step()\n",
    "        \n",
    "        "
   ]
  },
  {
   "cell_type": "code",
   "execution_count": 7,
   "id": "889a3f1a",
   "metadata": {},
   "outputs": [],
   "source": [
    "correct_batch_list = []\n",
    "wrong_batch_list = []\n",
    "\n",
    "def evaluate(G, D):\n",
    "    correct_sum, wrong_sum = 0.0, 0.0\n",
    "    G.eval()\n",
    "    D.eval()\n",
    "    \n",
    "    for batch, idx in test_dataloader:\n",
    "        img, label = batch.to(device), idx.to(device)\n",
    "        \n",
    "        with torch.autograd.no_grad():\n",
    "            correct = (torch.sum(D(img.view(-1, 28*28))).item())\n",
    "            wrong = (torch.sum(D(G(fakeImg(batch_size, d_noise)))).item())\n",
    "            correct_batch_list.append(correct)\n",
    "            wrong_batch_list.append(wrong)     \n",
    "            \n",
    "            correct_sum += correct/10000.0\n",
    "            wrong_sum += wrong/10000.0\n",
    "            # MNIST testset은 10000개\n",
    "            # MNIST traingset은 60000개로 이루어져있음\n",
    "    return correct_sum, wrong_sum"
   ]
  },
  {
   "cell_type": "code",
   "execution_count": null,
   "id": "6b54405d",
   "metadata": {
    "scrolled": true
   },
   "outputs": [
    {
     "name": "stdout",
     "output_type": "stream",
     "text": [
      "(epoch 30/300) correct: 0.655650, generated: 0.262028\n"
     ]
    },
    {
     "data": {
      "image/png": "[encoded data removed]",
      "text/plain": [
       "<Figure size 432x288 with 1 Axes>"
      ]
     },
     "metadata": {
      "needs_background": "light"
     },
     "output_type": "display_data"
    }
   ],
   "source": [
    "\"\"\"\n",
    "def init_params(model):\n",
    "    for p in model.parameters():\n",
    "        if(p.dim() > 1):\n",
    "            nn.init.xavier_normal_(p)\n",
    "        else:\n",
    "            nn.init.uniform_(p, 0.1, 0.2)\n",
    "\n",
    "init_params(G)\n",
    "init_params(D)\n",
    "\"\"\"\n",
    "\n",
    "# lr=0.1, lr=0.01 tried\n",
    "optim_G = optim.Adam(G.parameters(), lr=0.001)\n",
    "optim_D = optim.Adam(D.parameters(), lr=0.001)\n",
    "\n",
    "correct_epoch_list = []\n",
    "wrong_epoch_list = []\n",
    "\n",
    "for epoch in range(300):\n",
    "\n",
    "    train(G, D, optim_G, optim_D)\n",
    "    correct, wrong = evaluate(G,D)\n",
    "    \n",
    "    correct_epoch_list.append(correct)\n",
    "    wrong_epoch_list.append(wrong)\n",
    "    \n",
    "    if((epoch+1)% 30 == 0):\n",
    "        print('(epoch %i/300) correct: %f, generated: %f' % (epoch+1, correct, wrong))\n",
    "        z = fakeImg()\n",
    "        img_fake = G(z).view(1, 28, 28)\n",
    "        showImg(img_fake.squeeze().detach())\n",
    "        "
   ]
  },
  {
   "cell_type": "code",
   "execution_count": null,
   "id": "eceac8f4",
   "metadata": {
    "scrolled": true
   },
   "outputs": [],
   "source": [
    "for i in range(20):\n",
    "    z = fakeImg()\n",
    "    img_fake = G(z).view(1, 28, 28)\n",
    "    showImg(img_fake.squeeze().detach())"
   ]
  },
  {
   "cell_type": "code",
   "execution_count": null,
   "id": "4bfed3dc",
   "metadata": {},
   "outputs": [],
   "source": [
    "plt.plot(wrong_epoch_list[1:], label='D(x_generated)')\n",
    "plt.plot(correct_epoch_list[1:], label='D(x_real)')\n",
    "plt.legend(bbox_to_anchor=(1.05, 1), loc=2, borderaxespad=0.)\n",
    "\n",
    "plt.show()\n",
    "\n",
    "plt.plot(wrong_batch_list[313:], label='D(x_generated)')\n",
    "plt.plot(correct_batch_list[313:], label='D(x_real)')\n",
    "plt.legend(bbox_to_anchor=(1.05, 1), loc=2, borderaxespad=0.)\n",
    "\n",
    "plt.show()"
   ]
  }
 ],
 "metadata": {
  "kernelspec": {
   "display_name": "[pytorch]",
   "language": "python",
   "name": "pytorch"
  },
  "language_info": {
   "codemirror_mode": {
    "name": "ipython",
    "version": 3
   },
   "file_extension": ".py",
   "mimetype": "text/x-python",
   "name": "python",
   "nbconvert_exporter": "python",
   "pygments_lexer": "ipython3",
   "version": "3.8.10"
  }
 },
 "nbformat": 4,
 "nbformat_minor": 5
}
