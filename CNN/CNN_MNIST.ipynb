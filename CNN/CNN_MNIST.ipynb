{
 "cells": [
  {
   "cell_type": "code",
   "execution_count": 2,
   "metadata": {},
   "outputs": [],
   "source": [
    "import torch\n",
    "import torchvision.datasets as datasets\n",
    "import torchvision.transforms as transforms\n",
    "import torch.nn.init\n",
    "import matplotlib.pyplot as plt\n",
    "import matplotlib\n",
    "import numpy as np"
   ]
  },
  {
   "cell_type": "code",
   "execution_count": 3,
   "metadata": {},
   "outputs": [],
   "source": [
    "if torch.cuda.is_available(): \n",
    "    device='cuda'\n",
    "else:\n",
    "    device='cpu'\n",
    "\n",
    "# 랜덤 시드 고정\n",
    "torch.manual_seed(777)\n",
    "\n",
    "if device == 'cuda':\n",
    "    torch.cuda.manual_seed_all(777)\n"
   ]
  },
  {
   "cell_type": "code",
   "execution_count": 4,
   "metadata": {},
   "outputs": [
    {
     "output_type": "stream",
     "name": "stdout",
     "text": [
      "True\n"
     ]
    }
   ],
   "source": [
    "print(torch.cuda.is_available())"
   ]
  },
  {
   "cell_type": "code",
   "execution_count": 5,
   "metadata": {},
   "outputs": [],
   "source": [
    "learning_rate = 0.0001\n",
    "training_epochs = 20\n",
    "batch_size = 100"
   ]
  },
  {
   "cell_type": "code",
   "execution_count": 6,
   "metadata": {},
   "outputs": [],
   "source": [
    "mnist_train = datasets.MNIST(root='MNIST_data/',\n",
    "    train=True, transform=transforms.ToTensor(), download=False)\n",
    "mnist_test = datasets.MNIST(root='MNIST_data/',\n",
    "    train=False, transform=transforms.ToTensor(), download=False)"
   ]
  },
  {
   "cell_type": "code",
   "execution_count": 7,
   "metadata": {},
   "outputs": [],
   "source": [
    "data_loader = torch.utils.data.DataLoader(dataset=mnist_train, batch_size=batch_size,\n",
    "    shuffle=True, drop_last=True)"
   ]
  },
  {
   "cell_type": "code",
   "execution_count": 8,
   "metadata": {},
   "outputs": [],
   "source": [
    "class CNN(torch.nn.Module):\n",
    "\n",
    "    def __init__(self):\n",
    "        super(CNN, self).__init__()\n",
    "\n",
    "        self.layer1 = torch.nn.Sequential(\n",
    "            torch.nn.Conv2d(1, 32, kernel_size=3, stride=1, padding=1),\n",
    "            torch.nn.ReLU(),\n",
    "            torch.nn.MaxPool2d(kernel_size=2, stride=2))\n",
    "\n",
    "        self.layer2 = torch.nn.Sequential(\n",
    "            torch.nn.Conv2d(32, 64, kernel_size=3, stride=1, padding=1),\n",
    "            torch.nn.ReLU(),\n",
    "            torch.nn.MaxPool2d(kernel_size=2, stride=2))\n",
    "\n",
    "        self.fc = torch.nn.Linear(7 * 7 * 64, 10, bias=True)\n",
    "\n",
    "        torch.nn.init.xavier_uniform_(self.fc.weight)\n",
    "\n",
    "    def forward(self, x):\n",
    "        out = self.layer1(x)\n",
    "        out = self.layer2(out)\n",
    "        out = out.view(out.size(0), -1)\n",
    "        out = self.fc(out)\n",
    "        return out"
   ]
  },
  {
   "cell_type": "code",
   "execution_count": 9,
   "metadata": {},
   "outputs": [
    {
     "output_type": "stream",
     "name": "stdout",
     "text": [
      "총 parameter 개수 :  50186\n"
     ]
    }
   ],
   "source": [
    "model = CNN().to(device)\n",
    "print('총 parameter 개수 : ', sum(p.numel() for p in model.parameters() if p.requires_grad))\n",
    "criterion = torch.nn.CrossEntropyLoss().to(device)\n",
    "optimizer = torch.optim.Adam(model.parameters(), lr=learning_rate)"
   ]
  },
  {
   "cell_type": "code",
   "execution_count": 10,
   "metadata": {},
   "outputs": [
    {
     "output_type": "stream",
     "name": "stdout",
     "text": [
      "총 배치의 수 : 600\n"
     ]
    }
   ],
   "source": [
    "total_batch = len(data_loader)\n",
    "print('총 배치의 수 : {}'.format(total_batch))"
   ]
  },
  {
   "cell_type": "code",
   "execution_count": 11,
   "metadata": {},
   "outputs": [],
   "source": [
    "X_test = mnist_test.data.view(len(mnist_test), 1, 28, 28).float().to(device)\n",
    "Y_test = mnist_test.targets.to(device)"
   ]
  },
  {
   "cell_type": "code",
   "execution_count": 12,
   "metadata": {},
   "outputs": [
    {
     "output_type": "stream",
     "name": "stdout",
     "text": [
      "[Epoch:    1] cost = 0.750852585, Accuracy = 0.817299962\n",
      "[Epoch:    2] cost = 0.244072303, Accuracy = 0.896699965\n",
      "[Epoch:    3] cost = 0.168097496, Accuracy = 0.925399959\n",
      "[Epoch:    4] cost = 0.127119526, Accuracy = 0.944999993\n",
      "[Epoch:    5] cost = 0.102576636, Accuracy = 0.95419997\n",
      "[Epoch:    6] cost = 0.0862114802, Accuracy = 0.953499973\n",
      "[Epoch:    7] cost = 0.0756850094, Accuracy = 0.96269995\n",
      "[Epoch:    8] cost = 0.0684430227, Accuracy = 0.965599954\n",
      "[Epoch:    9] cost = 0.062544249, Accuracy = 0.968999982\n",
      "[Epoch:   10] cost = 0.058107648, Accuracy = 0.968699992\n",
      "[Epoch:   11] cost = 0.0546015054, Accuracy = 0.973199964\n",
      "[Epoch:   12] cost = 0.0510540195, Accuracy = 0.973099947\n",
      "[Epoch:   13] cost = 0.0481855348, Accuracy = 0.975499988\n",
      "[Epoch:   14] cost = 0.0453418978, Accuracy = 0.973499954\n",
      "[Epoch:   15] cost = 0.0434791483, Accuracy = 0.967899978\n",
      "[Epoch:   16] cost = 0.0416807011, Accuracy = 0.972299993\n",
      "[Epoch:   17] cost = 0.0398958251, Accuracy = 0.973999977\n",
      "[Epoch:   18] cost = 0.0382029526, Accuracy = 0.966199994\n",
      "[Epoch:   19] cost = 0.0366993546, Accuracy = 0.969699979\n",
      "[Epoch:   20] cost = 0.0348000415, Accuracy = 0.980399966\n"
     ]
    }
   ],
   "source": [
    "lossSet = []\n",
    "accSet = []\n",
    "\n",
    "for epoch in range(training_epochs):\n",
    "    avg_cost = 0\n",
    "\n",
    "    for X, Y in data_loader:\n",
    "        X = X.to(device)\n",
    "        Y = Y.to(device)\n",
    "\n",
    "        optimizer.zero_grad()\n",
    "        hypothesis = model(X)\n",
    "        cost = criterion(hypothesis, Y)\n",
    "        \n",
    "        cost.backward()\n",
    "        optimizer.step()\n",
    "        avg_cost += cost / total_batch\n",
    "    \n",
    "    lossSet.append(avg_cost.item())\n",
    "    \n",
    "    model.eval()\n",
    "    with torch.no_grad():\n",
    "        prediction = model(X_test)\n",
    "        correct_prediction = torch.argmax(prediction, 1) == Y_test\n",
    "        accuracy = correct_prediction.float().mean()\n",
    "    accSet.append(accuracy.item())\n",
    "    \n",
    "    model.train()\n",
    "\n",
    "    print('[Epoch: {:>4}] cost = {:.9}, Accuracy = {:.9}'.format(epoch+1, avg_cost, accuracy))"
   ]
  },
  {
   "cell_type": "code",
   "execution_count": 17,
   "metadata": {},
   "outputs": [],
   "source": [
    "%matplotlib tk\n",
    "\n",
    "RMSEloss = np.array(list(map(np.sqrt, lossSet)))\n",
    "xdomain = np.arange(training_epochs)\n",
    "xdomain += 1\n",
    "\n",
    "ax1 = plt.subplot(121)\n",
    "plt.plot(xdomain, RMSEloss, marker='o', color='white')\n",
    "plt.xlabel(\"Epochs\")\n",
    "plt.ylabel(\"RMSELoss\")\n",
    "plt.title(\"RMSELoss of CNN Model\")\n",
    "\n",
    "ax2 = plt.subplot(122)\n",
    "plt.plot(xdomain, accSet, marker='o', color='white')\n",
    "plt.xlabel(\"Epochs\")\n",
    "plt.ylabel(\"Accuracy\")\n",
    "plt.title(\"Accuracy of CNN Model\")\n",
    "\n",
    "plt.style.use(['dark_background'])\n",
    "plt.tight_layout(w_pad = 4)\n",
    "plt.show()"
   ]
  },
  {
   "cell_type": "code",
   "execution_count": null,
   "metadata": {},
   "outputs": [],
   "source": []
  }
 ],
 "metadata": {
  "kernelspec": {
   "name": "python385jvsc74a57bd042588fd11209419b7c81abe23e31a1d2101f60811b02170c268e57ebb57d5d9a",
   "display_name": "Python 3.8.5 64-bit ('base': conda)"
  },
  "language_info": {
   "codemirror_mode": {
    "name": "ipython",
    "version": 3
   },
   "file_extension": ".py",
   "mimetype": "text/x-python",
   "name": "python",
   "nbconvert_exporter": "python",
   "pygments_lexer": "ipython3",
   "version": "3.8.5"
  }
 },
 "nbformat": 4,
 "nbformat_minor": 2
}