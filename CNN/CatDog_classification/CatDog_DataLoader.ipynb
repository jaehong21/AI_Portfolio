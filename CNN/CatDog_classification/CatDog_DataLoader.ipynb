{
 "cells": [
  {
   "cell_type": "code",
   "execution_count": 1,
   "metadata": {},
   "outputs": [],
   "source": [
    "import numpy as np\n",
    "import matplotlib.pyplot as plt\n",
    "\n",
    "import os\n",
    "import os.path\n",
    "import glob\n",
    "\n",
    "import torch, gc\n",
    "import torchvision\n",
    "import torchvision.transforms as transforms\n",
    "import torchvision.datasets as datasets\n",
    "import torchvision.models as models\n",
    "\n",
    "from torch.autograd import Variable\n",
    "\n",
    "import torch.nn\n",
    "import torch.nn.functional as F\n",
    "import torch.nn.parallel\n",
    "\n",
    "import torch.utils.data as data\n",
    "from torch.utils.data import Dataset\n",
    "\n",
    "from __future__ import print_function\n",
    "import argparse\n",
    "import csv\n",
    "\n",
    "from PIL import Image\n"
   ]
  },
  {
   "cell_type": "code",
   "execution_count": 2,
   "metadata": {},
   "outputs": [
    {
     "name": "stdout",
     "output_type": "stream",
     "text": [
      "True\n"
     ]
    }
   ],
   "source": [
    "print(torch.cuda.is_available())\n",
    "gc.collect()\n",
    "torch.cuda.empty_cache()"
   ]
  },
  {
   "cell_type": "code",
   "execution_count": 3,
   "metadata": {},
   "outputs": [
    {
     "name": "stdout",
     "output_type": "stream",
     "text": [
      "True\n"
     ]
    }
   ],
   "source": [
    "if torch.cuda.is_available(): \n",
    "    device='cuda'\n",
    "else:\n",
    "    device='cpu'\n",
    "\n",
    "# 랜덤 시드 고정\n",
    "torch.manual_seed(42)\n",
    "\n",
    "if device == 'cuda':\n",
    "    torch.cuda.manual_seed_all(42)\n",
    "\n",
    "print(torch.cuda.is_available())\n"
   ]
  },
  {
   "cell_type": "code",
   "execution_count": 4,
   "metadata": {},
   "outputs": [],
   "source": [
    "batch_size = 10\n",
    "training_epochs = 15\n",
    "learning_rate = 0.001"
   ]
  },
  {
   "cell_type": "code",
   "execution_count": 5,
   "metadata": {},
   "outputs": [],
   "source": [
    "class TrainDataset(Dataset):\n",
    "    \n",
    "    def __init__(self):\n",
    "\n",
    "        self.catpaths = np.array(glob.glob('./training_set/cats/cat*.jpg'))\n",
    "        self.catlabel = np.zeros(self.catpaths.shape).astype(np.long)\n",
    "        self.cat = np.c_[self.catpaths, self.catlabel]\n",
    "\n",
    "        self.dogpaths = np.array(glob.glob('./training_set/dogs/dog*.jpg'))\n",
    "        self.doglabel = np.ones(self.dogpaths.shape).astype(np.long)\n",
    "        self.dog = np.c_[self.dogpaths, self.doglabel]\n",
    "\n",
    "        self.alllabel = np.r_[self.catlabel, self.doglabel]\n",
    "        self.allpaths = np.r_[self.catpaths, self.dogpaths]\n",
    "        self.alltrain = np.r_[self.cat, self.dog]\n",
    "\n",
    "        self.data_transform = transforms.Compose([\n",
    "            transforms.ToTensor(),\n",
    "            transforms.Resize((128,128)),\n",
    "            #transforms.CenterCrop((100, 100)),\n",
    "            #transforms.Normalize(mean=[0.485, 0.456, 0.406], std=[0.229, 0.224, 0.225])\n",
    "        ])\n",
    "\n",
    "        self.data_toTensor = transforms.Compose([transforms.ToTensor()])\n",
    "\n",
    "        print(self.alllabel)\n",
    "\n",
    "    def __getitem__(self, index): \n",
    "\n",
    "        img = Image.open(self.allpaths[index])\n",
    "        img = self.data_transform(img)\n",
    "        label = self.alllabel[index]\n",
    "        arr = np.zeros((2,))\n",
    "        arr[int(label)] = 1\n",
    "\n",
    "        return img, arr.astype(np.float32)\n",
    "\n",
    "    def __len__(self):\n",
    "        return len(self.allpaths)\n",
    "\n",
    "class TestDataset(Dataset):\n",
    "    \n",
    "    def __init__(self):\n",
    "\n",
    "        self.catpaths = np.array(glob.glob('./test_set/cats/cat*.jpg'))\n",
    "        self.catlabel = np.zeros(self.catpaths.shape).astype(np.long)\n",
    "        self.cat = np.c_[self.catpaths, self.catlabel]\n",
    "\n",
    "        self.dogpaths = np.array(glob.glob('./test_set/dogs/dog*.jpg'))\n",
    "        self.doglabel = np.ones(self.dogpaths.shape).astype(np.long)\n",
    "        self.dog = np.c_[self.dogpaths, self.doglabel]\n",
    "\n",
    "        self.alllabel = np.r_[self.catlabel, self.doglabel]\n",
    "        self.allpaths = np.r_[self.catpaths, self.dogpaths]\n",
    "        self.alltrain = np.r_[self.cat, self.dog]\n",
    "\n",
    "        self.data_transform = transforms.Compose([\n",
    "            transforms.ToTensor(),\n",
    "            transforms.Resize((128,128)),\n",
    "            #transforms.CenterCrop((100, 100)),\n",
    "            #transforms.Normalize(mean=[0.485, 0.456, 0.406], std=[0.229, 0.224, 0.225])\n",
    "        ])\n",
    "\n",
    "        self.data_toTensor = transforms.Compose([transforms.ToTensor()])\n",
    "\n",
    "        print(self.alllabel)\n",
    "\n",
    "    def __getitem__(self, index): \n",
    "\n",
    "        img = Image.open(self.allpaths[index])\n",
    "        img = self.data_transform(img)\n",
    "        label = self.alllabel[index]\n",
    "        arr = np.zeros((2,))\n",
    "        arr[int(label)] = 1\n",
    "\n",
    "        return img, arr.astype(np.float32)\n",
    "\n",
    "    def __len__(self):\n",
    "        return len(self.allpaths)\n",
    "\n",
    "\n"
   ]
  },
  {
   "cell_type": "code",
   "execution_count": 6,
   "metadata": {},
   "outputs": [
    {
     "name": "stdout",
     "output_type": "stream",
     "text": [
      "[0 0 0 ... 1 1 1]\n",
      "[0 0 0 ... 1 1 1]\n"
     ]
    }
   ],
   "source": [
    "train_dataset = TrainDataset()\n",
    "test_dataset = TestDataset()"
   ]
  },
  {
   "cell_type": "code",
   "execution_count": 7,
   "metadata": {},
   "outputs": [],
   "source": [
    "train_loader = torch.utils.data.DataLoader(dataset=train_dataset, batch_size=batch_size, shuffle=True, drop_last=True, pin_memory=True)\n",
    "test_loader = torch.utils.data.DataLoader(dataset=test_dataset, batch_size=batch_size, shuffle=True, drop_last=True, pin_memory=True)\n",
    "\n",
    "total_batch = len(train_loader)\n",
    "test_total_batch = len(test_loader)"
   ]
  },
  {
   "cell_type": "code",
   "execution_count": 8,
   "metadata": {},
   "outputs": [],
   "source": [
    "class CNN(torch.nn.Module):\n",
    "\n",
    "    def __init__(self):\n",
    "        super(CNN, self).__init__()\n",
    "        self.sigmoid = torch.nn.Sigmoid()\n",
    "\n",
    "        self.layer1 = torch.nn.Sequential(\n",
    "            torch.nn.Conv2d(3, 32, kernel_size=3, stride=1, padding=1),\n",
    "            torch.nn.ReLU(),\n",
    "            torch.nn.MaxPool2d(kernel_size=2, stride=2))\n",
    "\n",
    "        self.layer2 = torch.nn.Sequential(\n",
    "            torch.nn.Conv2d(32, 64, kernel_size=3, stride=1, padding=1),\n",
    "            torch.nn.ReLU(),\n",
    "            torch.nn.MaxPool2d(kernel_size=2, stride=2))\n",
    "\n",
    "        self.layer3 = torch.nn.Sequential(\n",
    "            torch.nn.Conv2d(64, 128, kernel_size=3, stride=1, padding=1),\n",
    "            torch.nn.ReLU(),\n",
    "            torch.nn.MaxPool2d(kernel_size=2, stride=2))\n",
    "\n",
    "        self.fc1 = torch.nn.Linear(16 * 16 * 128, 256, bias=True)\n",
    "        self.fc2 = torch.nn.Linear(256, 64, bias=True)\n",
    "        self.fc3 = torch.nn.Linear(64, 2, bias=True)\n",
    "\n",
    "        #torch.nn.init.xavier_uniform_(self.fc1.weight)\n",
    "\n",
    "    def forward(self, x):\n",
    "        out = self.layer1(x)\n",
    "        out = self.layer2(out)\n",
    "        out = self.layer3(out)\n",
    "        out = out.view(out.size(0), -1)\n",
    "        out = self.fc1(out)\n",
    "        out = self.fc2(out)\n",
    "        out = self.fc3(out)\n",
    "        out = self.sigmoid(out)\n",
    "        return out"
   ]
  },
  {
   "cell_type": "code",
   "execution_count": 9,
   "metadata": {},
   "outputs": [
    {
     "name": "stdout",
     "output_type": "stream",
     "text": [
      "총 parameter 개수 :  8498690\n",
      "총 배치의 수 : 800\n",
      "CNN(\n",
      "  (sigmoid): Sigmoid()\n",
      "  (layer1): Sequential(\n",
      "    (0): Conv2d(3, 32, kernel_size=(3, 3), stride=(1, 1), padding=(1, 1))\n",
      "    (1): ReLU()\n",
      "    (2): MaxPool2d(kernel_size=2, stride=2, padding=0, dilation=1, ceil_mode=False)\n",
      "  )\n",
      "  (layer2): Sequential(\n",
      "    (0): Conv2d(32, 64, kernel_size=(3, 3), stride=(1, 1), padding=(1, 1))\n",
      "    (1): ReLU()\n",
      "    (2): MaxPool2d(kernel_size=2, stride=2, padding=0, dilation=1, ceil_mode=False)\n",
      "  )\n",
      "  (layer3): Sequential(\n",
      "    (0): Conv2d(64, 128, kernel_size=(3, 3), stride=(1, 1), padding=(1, 1))\n",
      "    (1): ReLU()\n",
      "    (2): MaxPool2d(kernel_size=2, stride=2, padding=0, dilation=1, ceil_mode=False)\n",
      "  )\n",
      "  (fc1): Linear(in_features=32768, out_features=256, bias=True)\n",
      "  (fc2): Linear(in_features=256, out_features=64, bias=True)\n",
      "  (fc3): Linear(in_features=64, out_features=2, bias=True)\n",
      ")\n",
      "202\n"
     ]
    }
   ],
   "source": [
    "model = CNN().to(device)\n",
    "print('총 parameter 개수 : ', sum(p.numel() for p in model.parameters() if p.requires_grad))\n",
    "criterion = torch.nn.BCELoss().to(device)\n",
    "optimizer = torch.optim.Adam(model.parameters(), lr=learning_rate)\n",
    "\n",
    "total_batch = len(train_loader)\n",
    "print('총 배치의 수 : {}'.format(total_batch))\n",
    "print(model)\n",
    "print(test_total_batch)"
   ]
  },
  {
   "cell_type": "code",
   "execution_count": 10,
   "metadata": {
    "tags": []
   },
   "outputs": [
    {
     "name": "stdout",
     "output_type": "stream",
     "text": [
      "[Epoch:    1], cost = 0.69056344\n",
      "test cost :  tensor(0.6864, device='cuda:0')\n",
      "[Epoch:    2], cost = 0.668795824\n",
      "test cost :  tensor(0.6264, device='cuda:0')\n",
      "[Epoch:    3], cost = 0.576286077\n",
      "test cost :  tensor(0.5806, device='cuda:0')\n",
      "[Epoch:    4], cost = 0.513345122\n",
      "test cost :  tensor(0.5055, device='cuda:0')\n",
      "[Epoch:    5], cost = 0.455990106\n",
      "test cost :  tensor(0.4772, device='cuda:0')\n",
      "[Epoch:    6], cost = 0.408846229\n",
      "test cost :  tensor(0.4712, device='cuda:0')\n",
      "[Epoch:    7], cost = 0.36798656\n",
      "test cost :  tensor(0.5005, device='cuda:0')\n",
      "[Epoch:    8], cost = 0.327960968\n",
      "test cost :  tensor(0.4877, device='cuda:0')\n",
      "[Epoch:    9], cost = 0.285151005\n",
      "test cost :  tensor(0.5104, device='cuda:0')\n",
      "[Epoch:   10], cost = 0.234712675\n",
      "test cost :  tensor(0.5549, device='cuda:0')\n",
      "[Epoch:   11], cost = 0.18978177\n",
      "test cost :  tensor(0.8147, device='cuda:0')\n",
      "[Epoch:   12], cost = 0.157389149\n",
      "test cost :  tensor(0.8883, device='cuda:0')\n",
      "[Epoch:   13], cost = 0.128797054\n",
      "test cost :  tensor(1.0766, device='cuda:0')\n",
      "[Epoch:   14], cost = 0.10899584\n",
      "test cost :  tensor(1.0887, device='cuda:0')\n",
      "[Epoch:   15], cost = 0.0940525681\n",
      "test cost :  tensor(1.2089, device='cuda:0')\n"
     ]
    }
   ],
   "source": [
    "lossSet=[]\n",
    "testSet=[]\n",
    "\n",
    "for epoch in range(training_epochs):\n",
    "    train_avg_cost = 0\n",
    "    test_avg_cost = 0\n",
    "\n",
    "    model.train()\n",
    "    for batch_idx, data in enumerate(train_loader):\n",
    "        inputs, labels = data\n",
    "        inputs = torch.Tensor(inputs)\n",
    "        labels = torch.Tensor(labels)\n",
    "        inputs, labels= inputs.cuda(), labels.cuda()\n",
    "        \n",
    "        \n",
    "        optimizer.zero_grad()\n",
    "        output = model(inputs)\n",
    "        loss = criterion(output, labels)\n",
    "        \n",
    "        loss.backward()\n",
    "        optimizer.step()\n",
    "        train_avg_cost += loss/total_batch\n",
    "    \n",
    "    model.eval()\n",
    "    with torch.no_grad():\n",
    "        for batch_idx, data in enumerate(test_loader):\n",
    "            inputs, labels = data\n",
    "            inputs = torch.Tensor(inputs)\n",
    "            labels = torch.Tensor(labels)\n",
    "            inputs, labels= inputs.cuda(), labels.cuda()\n",
    "\n",
    "            output = model(inputs)\n",
    "            loss = criterion(output, labels)\n",
    "        \n",
    "            test_avg_cost += loss/test_total_batch\n",
    "        \n",
    "    print('[Epoch: {:>4}], cost = {:.9}'.format(epoch+1, train_avg_cost))  \n",
    "    print('test cost : ', test_avg_cost) \n",
    "    lossSet.append(train_avg_cost.item())\n",
    "    testSet.append(test_avg_cost.item())\n",
    "    "
   ]
  },
  {
   "cell_type": "code",
   "execution_count": 12,
   "metadata": {},
   "outputs": [
    {
     "name": "stdout",
     "output_type": "stream",
     "text": [
      "[0.690563440322876, 0.6687958240509033, 0.5762860774993896, 0.5133451223373413, 0.45599010586738586, 0.4088462293148041, 0.3679865598678589, 0.3279609680175781, 0.28515100479125977, 0.23471267521381378, 0.1897817701101303, 0.15738914906978607, 0.12879705429077148, 0.10899583995342255, 0.09405256807804108]\n",
      "[0.6864036321640015, 0.6263771653175354, 0.5805774331092834, 0.5054847002029419, 0.4772105813026428, 0.47119084000587463, 0.5004812479019165, 0.487722247838974, 0.5103985667228699, 0.5548651814460754, 0.8147111535072327, 0.8883354663848877, 1.076602578163147, 1.0887190103530884, 1.2089340686798096]\n"
     ]
    }
   ],
   "source": [
    "%matplotlib tk\n",
    "print(lossSet)\n",
    "print(testSet)\n",
    "\n",
    "#lossSet, testSet = lossSet.Torch.cpu(), testSet.Torch.cpu()\n",
    "RMSEloss = np.array(list(map(np.sqrt, lossSet)))\n",
    "testRMSEloss = np.array(list(map(np.sqrt, testSet)))\n",
    "xdomain = np.arange(training_epochs)\n",
    "xdomain += 1\n",
    "\n",
    "\n",
    "ax1 = plt.subplot(121)\n",
    "plt.plot(xdomain, RMSEloss, marker='o', color='red')\n",
    "plt.xlabel(\"Epochs\")\n",
    "plt.ylabel(\"train RMSELoss\")\n",
    "plt.title(\"train RMSELoss of CNN Model\")\n",
    "\n",
    "ax2 = plt.subplot(122)\n",
    "plt.plot(xdomain, testRMSEloss, marker='o', color='red')\n",
    "plt.xlabel(\"Epochs\")\n",
    "plt.ylabel(\"test RMSELoss\")\n",
    "plt.title(\"test RMSELoss of CNN Model\")\n",
    "\n",
    "#plt.style.use(['dark_background'])\n",
    "plt.tight_layout(w_pad = 4)\n",
    "plt.show()"
   ]
  },
  {
   "cell_type": "code",
   "execution_count": null,
   "metadata": {},
   "outputs": [],
   "source": []
  }
 ],
 "metadata": {
  "kernelspec": {
   "display_name": "Python 3 (ipykernel)",
   "language": "python",
   "name": "python3"
  },
  "language_info": {
   "codemirror_mode": {
    "name": "ipython",
    "version": 3
   },
   "file_extension": ".py",
   "mimetype": "text/x-python",
   "name": "python",
   "nbconvert_exporter": "python",
   "pygments_lexer": "ipython3",
   "version": "3.8.10"
  }
 },
 "nbformat": 4,
 "nbformat_minor": 2
}
