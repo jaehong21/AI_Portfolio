{
 "cells": [
  {
   "cell_type": "code",
   "execution_count": 51,
   "metadata": {},
   "outputs": [],
   "source": [
    "from DataPreparation_python import * \n",
    "import numpy as np\n",
    "import matplotlib.pyplot as plt"
   ]
  },
  {
   "cell_type": "markdown",
   "metadata": {},
   "source": [
    "<h2>3_Data analysis에 들어가기 이전에</h2> <br />\n",
    "\n",
    "이미 대부분의 전처리 과정은 2_Data preparation에서 끝냈었다. 그러므로, 3_Data analysis에서는 더 무리한 데이터 전처리를 진행할 필요성은\n",
    "없다고 느꼈다. <br /> 그리하여, 대부분의 함수는 .py에서 import 하여 2_Data preparation_Dataset.ipynb에서 제작한 함수 및 클래스를 이어서 사용할 수 있도록 하였다. <br />\n",
    "또한, numpy는 3_Data analysis 부분보다도 4_Deep learning에서 보다 더 많이 사용할 계획이다. \n"
   ]
  },
  {
   "cell_type": "code",
   "execution_count": 77,
   "metadata": {},
   "outputs": [
    {
     "name": "stdout",
     "output_type": "stream",
     "text": [
      "한국어 단어 개수: 35037\n",
      "영어 단어 개수: 12080\n"
     ]
    }
   ],
   "source": [
    "'''\n",
    "class Lang:\n",
    "    def __init__(self, name):\n",
    "        self.name = name\n",
    "        self.word2index = {}\n",
    "        self.word2count = {}\n",
    "        self.index2word = {0: \"SOS\", 1: \"EOS\"}\n",
    "        self.n_words = 2\n",
    "        \n",
    "    def addSentence(self, sentence):\n",
    "        for word in sentence.split(' '):\n",
    "            self.addWord(word)\n",
    "    \n",
    "    def addWord(self, word):\n",
    "        if word not in self.word2index:\n",
    "            self.word2index[word] = self.n_words\n",
    "            self.word2count[word] = 1\n",
    "            self.index2word[self.n_words] = word\n",
    "            self.n_words += 1\n",
    "        else: \n",
    "            self.word2count[word] += 1\n",
    "'''\n",
    "\n",
    "print(\"한국어 단어 개수: \" + str(input_lang.n_words))\n",
    "print(\"영어 단어 개수: \" + str(output_lang.n_words)) "
   ]
  },
  {
   "cell_type": "code",
   "execution_count": 71,
   "metadata": {},
   "outputs": [
    {
     "data": {
      "text/html": [
       "<div>\n",
       "<style scoped>\n",
       "    .dataframe tbody tr th:only-of-type {\n",
       "        vertical-align: middle;\n",
       "    }\n",
       "\n",
       "    .dataframe tbody tr th {\n",
       "        vertical-align: top;\n",
       "    }\n",
       "\n",
       "    .dataframe thead th {\n",
       "        text-align: right;\n",
       "    }\n",
       "</style>\n",
       "<table border=\"1\" class=\"dataframe\">\n",
       "  <thead>\n",
       "    <tr style=\"text-align: right;\">\n",
       "      <th></th>\n",
       "      <th>key</th>\n",
       "      <th>value</th>\n",
       "    </tr>\n",
       "  </thead>\n",
       "  <tbody>\n",
       "    <tr>\n",
       "      <th>203</th>\n",
       "      <td>나는</td>\n",
       "      <td>14247</td>\n",
       "    </tr>\n",
       "    <tr>\n",
       "      <th>0</th>\n",
       "      <td>우리는</td>\n",
       "      <td>5041</td>\n",
       "    </tr>\n",
       "    <tr>\n",
       "      <th>5251</th>\n",
       "      <td>그는</td>\n",
       "      <td>3094</td>\n",
       "    </tr>\n",
       "    <tr>\n",
       "      <th>25</th>\n",
       "      <td>그녀는</td>\n",
       "      <td>2265</td>\n",
       "    </tr>\n",
       "    <tr>\n",
       "      <th>1386</th>\n",
       "      <td>난</td>\n",
       "      <td>1783</td>\n",
       "    </tr>\n",
       "    <tr>\n",
       "      <th>99</th>\n",
       "      <td>수</td>\n",
       "      <td>1148</td>\n",
       "    </tr>\n",
       "  </tbody>\n",
       "</table>\n",
       "</div>"
      ],
      "text/plain": [
       "      key  value\n",
       "203    나는  14247\n",
       "0     우리는   5041\n",
       "5251   그는   3094\n",
       "25    그녀는   2265\n",
       "1386    난   1783\n",
       "99      수   1148"
      ]
     },
     "execution_count": 71,
     "metadata": {},
     "output_type": "execute_result"
    }
   ],
   "source": [
    "input_count = pd.concat([df(input_lang.word2count.keys()), df(input_lang.word2count.values())], axis=1)\n",
    "input_count.columns = ['key', 'value']\n",
    "\n",
    "input_count_sorted = input_count.sort_values(by=['value'], axis=0,ascending=False, inplace=False)\n",
    "input_count_sorted[1: 7]"
   ]
  },
  {
   "cell_type": "code",
   "execution_count": 58,
   "metadata": {},
   "outputs": [
    {
     "data": {
      "text/html": [
       "<div>\n",
       "<style scoped>\n",
       "    .dataframe tbody tr th:only-of-type {\n",
       "        vertical-align: middle;\n",
       "    }\n",
       "\n",
       "    .dataframe tbody tr th {\n",
       "        vertical-align: top;\n",
       "    }\n",
       "\n",
       "    .dataframe thead th {\n",
       "        text-align: right;\n",
       "    }\n",
       "</style>\n",
       "<table border=\"1\" class=\"dataframe\">\n",
       "  <thead>\n",
       "    <tr style=\"text-align: right;\">\n",
       "      <th></th>\n",
       "      <th>key</th>\n",
       "      <th>value</th>\n",
       "    </tr>\n",
       "  </thead>\n",
       "  <tbody>\n",
       "    <tr>\n",
       "      <th>124</th>\n",
       "      <td>I</td>\n",
       "      <td>18013</td>\n",
       "    </tr>\n",
       "    <tr>\n",
       "      <th>36</th>\n",
       "      <td>to</td>\n",
       "      <td>9594</td>\n",
       "    </tr>\n",
       "    <tr>\n",
       "      <th>132</th>\n",
       "      <td>the</td>\n",
       "      <td>8389</td>\n",
       "    </tr>\n",
       "    <tr>\n",
       "      <th>14</th>\n",
       "      <td>a</td>\n",
       "      <td>6834</td>\n",
       "    </tr>\n",
       "    <tr>\n",
       "      <th>0</th>\n",
       "      <td>We</td>\n",
       "      <td>4637</td>\n",
       "    </tr>\n",
       "    <tr>\n",
       "      <th>29</th>\n",
       "      <td>you</td>\n",
       "      <td>3647</td>\n",
       "    </tr>\n",
       "  </tbody>\n",
       "</table>\n",
       "</div>"
      ],
      "text/plain": [
       "     key  value\n",
       "124    I  18013\n",
       "36    to   9594\n",
       "132  the   8389\n",
       "14     a   6834\n",
       "0     We   4637\n",
       "29   you   3647"
      ]
     },
     "execution_count": 58,
     "metadata": {},
     "output_type": "execute_result"
    }
   ],
   "source": [
    "output_count = pd.concat([df(output_lang.word2count.keys()), df(output_lang.word2count.values())], axis=1)\n",
    "output_count.columns = ['key', 'value']\n",
    "\n",
    "output_count_sorted = output_count.sort_values(by=['value'], axis=0,ascending=False, inplace=False)\n",
    "output_count_sorted[1: 7]"
   ]
  },
  {
   "cell_type": "markdown",
   "metadata": {},
   "source": [
    "input_lang: 한국어, output_lang: 영어 <br />\n",
    "input_lang과 output_lang은 Lang 클래스이므로, 클래스 변수 등을 통해서 값을 조회해야 한다. <br />\n",
    "기본적인 단어 및 영어들의 빈도수를 분석하기 위해서 DataFrame을 병합하고, 정렬해준다. <br />"
   ]
  },
  {
   "cell_type": "code",
   "execution_count": 70,
   "metadata": {},
   "outputs": [
    {
     "data": {
      "image/png": "[encoded data removed]",
      "text/plain": [
       "<Figure size 432x288 with 1 Axes>"
      ]
     },
     "metadata": {
      "needs_background": "light"
     },
     "output_type": "display_data"
    },
    {
     "data": {
      "image/png": "[encoded data removed]",
      "text/plain": [
       "<Figure size 432x288 with 1 Axes>"
      ]
     },
     "metadata": {
      "needs_background": "light"
     },
     "output_type": "display_data"
    }
   ],
   "source": [
    "x = np.arange(6)\n",
    "plt.xticks(x, input_count_sorted['key'][1:7])\n",
    "plt.bar(x, input_count_sorted['value'][1:7])\n",
    "plt.show()\n",
    "\n",
    "y = np.arange(6)\n",
    "plt.xticks(y, output_count_sorted['key'][1:7])\n",
    "plt.bar(y, output_count_sorted['value'][1:7])\n",
    "plt.show()\n",
    "\n",
    "# 만약 밑 이미지에서 한글 글씨가 깨진다면, font 설치 및 적용이 필요하다."
   ]
  },
  {
   "cell_type": "markdown",
   "metadata": {},
   "source": [
    "위와 같이 가장 빈도수가 높은 한국어 및 영어 단어들을 matplotlib으로 표현해봤다. <br />\n",
    "예상했던 것처럼 대명사의 빈도가 압도적으로 많은 것을 볼 수 있다. <br />\n",
    "이를 이용해서, WordCloud를 제작할 수도 있지만, 빈도수는 막대 그래프로 보는 것이 더 가독성이 좋기 때문에, <br />\n",
    "생략하도록 하겠다."
   ]
  },
  {
   "cell_type": "code",
   "execution_count": null,
   "metadata": {},
   "outputs": [],
   "source": [
    "'''\n",
    "MAX_LENGTH = 15\n",
    "\n",
    "eng_prefixes = (\n",
    "    \"i am \", \"i m \",\n",
    "    \"he is\", \"he s \",\n",
    "    \"she is\", \"she s \",\n",
    "    \"you are\", \"you re \",\n",
    "    \"we are\", \"we re \",\n",
    "    \"they are\", \"they re \"\n",
    ")\n",
    "\n",
    "kor_prefixes= (\n",
    "    \"나는\", \"난\",\n",
    "    \"그는\", \"그녀는\",\n",
    "    \"우리는\", \"그들은\",\n",
    "    \"너는\", \"넌\",\n",
    ")\n",
    "\n",
    "\n",
    "def filterPair(p):\n",
    "    return len(p[0].split(' ')) < MAX_LENGTH and len(p[1].split(' ')) < MAX_LENGTH and p[0].startswith(kor_prefixes)\n",
    "    # and p[1].startswith(eng_prefixes)\n",
    "    # 만약 reverse=False면 p[0].startswith(eng_prefixes)\n",
    "\n",
    "def filterPairs(pairs):\n",
    "    return [pair for pair in pairs if filterPair(pair)]\n",
    "'''"
   ]
  },
  {
   "cell_type": "markdown",
   "metadata": {},
   "source": [
    "위 주석은 2_Data preparation cell에 있던 코드이다. <br />\n",
    "cell 자체는 2_Data preparation.ipynb에 존재하지만, 내용 및 목적은 3_Data analysis에 부합하여, 이곳에서 설명하고자 한다. <br />\n",
    "필터링을 거치지 않은 문장의 데이터를 분석해보면, 너무나도 방대한 데이터가 존재하여, 너무 학습이 오래 걸리는 단점이 있다. <br />\n",
    "그리하여, MAX_LENGTH를 지정함으로써, 학습 시간을 단축하고자 한다. <br />\n",
    "또한, prefix를 지정하여, 특정한 형태로 시작하는 문장으로만 골라서 학습하여, 뜻이 특이하거나 outlier 문장은 최대한 거르고자 한다. <br />\n",
    "<br />\n",
    "위와 같은 코드는 3_Data analysis에 조금 더 부합한 내용이라고 생각되지만, 데이터셋 전처리하는 과정을 분리하기보다 <br />\n",
    "하나의 함수로 통합하고자, 2_Data preparation.ipynb에 포함시켰다. <br />\n",
    "\n",
    "1. 문장의 길이가 MAXLENGTH 이하인 문장만 학습한다. <br />\n",
    "2. eng_prefixes를 선언하여, 이의 형태로 시작하는 문장만 골라서 학습한다. <br />"
   ]
  },
  {
   "cell_type": "code",
   "execution_count": 79,
   "metadata": {},
   "outputs": [],
   "source": [
    "dataset.to_excel('3_Dataset.xlsx')\n",
    "dataset.to_csv('3_Dataset.csv')"
   ]
  },
  {
   "cell_type": "code",
   "execution_count": null,
   "metadata": {},
   "outputs": [],
   "source": []
  }
 ],
 "metadata": {
  "kernelspec": {
   "display_name": "Python 3",
   "language": "python",
   "name": "python3"
  },
  "language_info": {
   "codemirror_mode": {
    "name": "ipython",
    "version": 3
   },
   "file_extension": ".py",
   "mimetype": "text/x-python",
   "name": "python",
   "nbconvert_exporter": "python",
   "pygments_lexer": "ipython3",
   "version": "3.8.5"
  }
 },
 "nbformat": 4,
 "nbformat_minor": 4
}
