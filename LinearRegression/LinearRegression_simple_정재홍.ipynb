{
 "cells": [
  {
   "cell_type": "code",
   "execution_count": 1,
   "metadata": {},
   "outputs": [
    {
     "output_type": "stream",
     "name": "stdout",
     "text": [
      "Epoch (   0 / 5000) cost: 2646.0000000000, W: 1.7033333333, b: 0.4200000000\nEpoch ( 200 / 5000) cost:    1.5311881007, W: 4.6443019072, b: 4.2416156416\nEpoch ( 400 / 5000) cost:    0.3547288626, W: 4.3101154529, b: 5.6723341885\nEpoch ( 600 / 5000) cost:    0.0821796917, W: 4.1492647981, b: 6.3609677702\nEpoch ( 800 / 5000) cost:    0.0190384895, W: 4.0718441463, b: 6.6924209488\nEpoch (1000 / 5000) cost:    0.0044106284, W: 4.0345800311, b: 6.8519560229\nEpoch (1200 / 5000) cost:    0.0010218060, W: 4.0166440637, b: 6.9287434594\nEpoch (1400 / 5000) cost:    0.0002367208, W: 4.0080111223, b: 6.9657027954\nEpoch (1600 / 5000) cost:    0.0000548409, W: 4.0038559141, b: 6.9834920663\nEpoch (1800 / 5000) cost:    0.0000127049, W: 4.0018559289, b: 6.9920543999\nEpoch (2000 / 5000) cost:    0.0000029433, W: 4.0008932959, b: 6.9961756230\nEpoch (2200 / 5000) cost:    0.0000006819, W: 4.0004299613, b: 6.9981592505\nEpoch (2400 / 5000) cost:    0.0000001580, W: 4.0002069490, b: 6.9991140103\nEpoch (2600 / 5000) cost:    0.0000000366, W: 4.0000996087, b: 6.9995735554\nEpoch (2800 / 5000) cost:    0.0000000085, W: 4.0000479437, b: 6.9997947436\nEpoch (3000 / 5000) cost:    0.0000000020, W: 4.0000230763, b: 6.9999012060\nEpoch (3200 / 5000) cost:    0.0000000005, W: 4.0000111071, b: 6.9999524485\nEpoch (3400 / 5000) cost:    0.0000000001, W: 4.0000053461, b: 6.9999771125\nEpoch (3600 / 5000) cost:    0.0000000000, W: 4.0000025732, b: 6.9999889838\nEpoch (3800 / 5000) cost:    0.0000000000, W: 4.0000012385, b: 6.9999946977\nEpoch (4000 / 5000) cost:    0.0000000000, W: 4.0000005961, b: 6.9999974479\nEpoch (4200 / 5000) cost:    0.0000000000, W: 4.0000002869, b: 6.9999987716\nEpoch (4400 / 5000) cost:    0.0000000000, W: 4.0000001381, b: 6.9999994088\nEpoch (4600 / 5000) cost:    0.0000000000, W: 4.0000000665, b: 6.9999997154\nEpoch (4800 / 5000) cost:    0.0000000000, W: 4.0000000320, b: 6.9999998630\n\n\nresult: \nW:  4.000000015455855\nb:  6.999999933830417\n목표 함수:  4.000000015455855 x + 6.999999933830417\n"
     ]
    }
   ],
   "source": [
    "import numpy as np\n",
    "x_train = np.array ( [1., 2., 3., 4., 5., 6.] )\n",
    "y_train = np.array ( [11., 15., 19., 23., 27., 31.] )\n",
    "\n",
    "W = 0.0\n",
    "b = 0.0\n",
    "\n",
    "n_data = len(x_train) # 6\n",
    "epoch = 5000\n",
    "learning_rate = 0.01 \n",
    "\n",
    "for i in range(epoch):\n",
    "    predict_function = x_train * W + b\n",
    "    cost = np.sum(predict_function - y_train) ** 2 / n_data\n",
    "                 \n",
    "    gradient_w = np.sum((W*x_train+b - y_train) * 2 * x_train) / n_data   \n",
    "    gradient_b = np.sum((W*x_train+b - y_train) * 2 ) / n_data\n",
    "\n",
    "    W = W - learning_rate * gradient_w\n",
    "    b = b - learning_rate * gradient_b\n",
    "\n",
    "    if i % 200 == 0: \n",
    "        print('Epoch ({:4.0f} / {:.0f}) cost: {:15.10f}, W: {:.10f}, b: {:.10f}'.format(i, epoch, cost, W, b) )\n",
    "        \n",
    "print('\\n')\n",
    "\n",
    "print('result: ')\n",
    "print('W: ', W)\n",
    "print('b: ', b)\n",
    "print('목표 함수: ', W, 'x +', b)\n"
   ]
  },
  {
   "cell_type": "code",
   "execution_count": null,
   "metadata": {},
   "outputs": [],
   "source": []
  }
 ],
 "metadata": {
  "kernelspec": {
   "name": "python385jvsc74a57bd042588fd11209419b7c81abe23e31a1d2101f60811b02170c268e57ebb57d5d9a",
   "display_name": "Python 3.8.5 64-bit (conda)"
  },
  "language_info": {
   "codemirror_mode": {
    "name": "ipython",
    "version": 3
   },
   "file_extension": ".py",
   "mimetype": "text/x-python",
   "name": "python",
   "nbconvert_exporter": "python",
   "pygments_lexer": "ipython3",
   "version": "3.8.5"
  }
 },
 "nbformat": 4,
 "nbformat_minor": 4
}